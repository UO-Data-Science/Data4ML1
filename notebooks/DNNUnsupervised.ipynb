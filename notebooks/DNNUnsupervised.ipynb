{
 "cells": [
  {
   "cell_type": "markdown",
   "id": "e8f5a1f6-5f49-48b0-91b7-04bd6b3dae72",
   "metadata": {},
   "source": [
    "We'll start with some magic that will make torch play nice with R on Talapas"
   ]
  },
  {
   "cell_type": "code",
   "execution_count": null,
   "id": "ab677292-0492-4e52-9fbb-e255e2be2230",
   "metadata": {},
   "outputs": [],
   "source": [
    "Sys.setenv(TORCH_HOME='/gpfs/projects/datascience/shared/R/torch/lantern/build/libtorch')\n",
    "libdir='/gpfs/projects/datascience/shared/R/Data4ML'\n",
    ".libPaths(libdir)\n",
    "Sys.setenv(R_LIBS = paste(libdir, Sys.getenv(\"R_LIBS\"), sep=.Platform$path.sep))"
   ]
  },
  {
   "cell_type": "markdown",
   "id": "a4add5bc-98d6-4e9e-a07a-266ff1d725e3",
   "metadata": {},
   "source": [
    "#  Unsupervised Deep Learning for Single Cell Data\n",
    "\n",
    "All the principles around unsupervised learning apply when you use deep unsupervised techniques. Implementing these models from scratch can be pretty involved, but there are packages available to use some of the algorithms.\n",
    "\n",
    "1. We'll run the demo of scCAN, an auto-encoder-based tool \n",
    "2. We'll combine this method alongside seurat to use its standard tools\n"
   ]
  },
  {
   "cell_type": "markdown",
   "id": "4c827050-46e6-480f-bfb1-b4c6ce40e660",
   "metadata": {},
   "source": [
    "# Libraries\n",
    "We'll use UMAP from the uwot package, scCAN, and Seurat"
   ]
  },
  {
   "cell_type": "code",
   "execution_count": null,
   "id": "b42b4ebe-a541-4684-bae7-93d903a92d24",
   "metadata": {},
   "outputs": [],
   "source": [
    "library('ggplot2')\n",
    "library('uwot')\n",
    "library(\"scCAN\")\n",
    "data(\"SCE\")\n",
    "library(\"Seurat\")"
   ]
  },
  {
   "cell_type": "code",
   "execution_count": null,
   "id": "2189810c-7d71-4abc-a417-fcedd2aaa3c6",
   "metadata": {},
   "outputs": [],
   "source": [
    "data <- t(SCE$data); \n",
    "head(data)\n",
    "\n",
    "max(data)\n",
    "min(data)\n",
    "mean(data)"
   ]
  },
  {
   "cell_type": "markdown",
   "id": "e3b8ecb3-7a1b-4876-b0a9-0fcddd43c401",
   "metadata": {},
   "source": [
    "# Normalization\n",
    "\n",
    "As a reminder, these algorithms determine what's important based on distance quantities. If you're not careful, single-cell data will be dominated by the genes with the largest counts. To help deal with this, its common to log normalize your data and scale it. \n",
    "\n",
    "* Another important note \n",
    " Remember it is standard for ML data is Rows = Examples (in this case cells) and Columns are features in this case counts\n",
    " \n",
    "Single cell data is often comes with the columns switched with respect to the ML standard Rows = Counts and Cells = Columns, you'll see **t()** which transposes the matrix\n",
    " "
   ]
  },
  {
   "cell_type": "code",
   "execution_count": null,
   "id": "0d6d2612-0d46-4788-b2d8-f49326f93461",
   "metadata": {
    "tags": []
   },
   "outputs": [],
   "source": [
    "\n",
    "# Get data matrix and label\n",
    "data <- t(SCE$data); \n",
    "label <- as.character(SCE$cell_type1)\n",
    "log_data<-log(data+1)\n",
    "\n",
    "\n"
   ]
  },
  {
   "cell_type": "markdown",
   "id": "e04aa6e4-afb5-4789-9284-799e4ef387d4",
   "metadata": {},
   "source": [
    "## Auto-encoder training and clustering in scCAN is a one-liner but it will take a little while to run; here, the more cores, the better."
   ]
  },
  {
   "cell_type": "code",
   "execution_count": null,
   "id": "b93c8a6f-6f75-426f-b395-b5b1a8484b7e",
   "metadata": {},
   "outputs": [],
   "source": [
    "#Generate clustering result. The input matrix has rows as samples and columns as genes\n",
    "result <- scCAN(log_data,ncores=8)\n"
   ]
  },
  {
   "cell_type": "code",
   "execution_count": null,
   "id": "bc7ad5dc-2349-4b40-80f7-153515f70068",
   "metadata": {
    "tags": []
   },
   "outputs": [],
   "source": [
    "View(result)"
   ]
  },
  {
   "cell_type": "markdown",
   "id": "0898c684-b181-4581-996c-951342831da2",
   "metadata": {},
   "source": [
    "Like PCA this returns a reduced dimension latent space, by default 15 dimensions. We'll still need to use something like umap to plot this data.\n"
   ]
  },
  {
   "cell_type": "code",
   "execution_count": null,
   "id": "2150f43f-ee7b-4781-8940-13e0c7a64b18",
   "metadata": {},
   "outputs": [],
   "source": [
    "head(result$latent)\n",
    "head(result$cluster)\n",
    "\n",
    "plot_data=umap(result$latent)\n",
    "\n",
    "plot(plot_data,col=result$cluster)\n"
   ]
  },
  {
   "cell_type": "markdown",
   "id": "7690bff3-e4c8-4749-9843-d7ee970e5232",
   "metadata": {},
   "source": [
    "# The above is the example that comes with scCAN let's try a more complicated analysis in Seurat\n",
    "\n",
    "We'll use the dataset from the Seurat Tutorial and their pipeline"
   ]
  },
  {
   "cell_type": "code",
   "execution_count": null,
   "id": "92ac730e-a17f-47a1-9719-6568b5d0c3c6",
   "metadata": {},
   "outputs": [],
   "source": [
    "pbmc.data <- Read10X(data.dir = \"/projects/datascience/shared/filtered_gene_bc_matrices/hg19/\")\n",
    "\n",
    "pbmc <- CreateSeuratObject(counts = pbmc.data, project = \"pbmc3k\", min.cells = 3, min.features = 200)\n",
    "pbmc[[\"percent.mt\"]] <- PercentageFeatureSet(pbmc, pattern = \"^MT-\")\n",
    "pbmc <- subset(pbmc, subset = nFeature_RNA > 200 & nFeature_RNA < 2500 & percent.mt < 5)\n",
    "pbmc <- NormalizeData(pbmc)\n",
    "pbmc <- FindVariableFeatures(pbmc, selection.method = \"vst\", nfeatures = 2000)\n",
    "all.genes <- rownames(pbmc)\n",
    "pbmc <- ScaleData(pbmc, features = all.genes)\n",
    "pbmc <- RunPCA(pbmc, features = VariableFeatures(object = pbmc))\n",
    "pbmc <- RunUMAP(pbmc, dims = 1:10)\n",
    "\n",
    "features=VariableFeatures(object=pbmc)\n"
   ]
  },
  {
   "cell_type": "code",
   "execution_count": null,
   "id": "33a6da30-18f0-4db4-bb6f-ac06ae8b55aa",
   "metadata": {},
   "outputs": [],
   "source": [
    "#count_data=t(as.matrix(GetAssayData(object = pbmc, slot = \"data\")[features,])) \n",
    "\n",
    "#Matrix is needed to run this line it's loaded above otherwise use top line\n",
    "count_data=t(GetAssayData(object = pbmc, slot = \"data\"))\n",
    "#[features,]"
   ]
  },
  {
   "cell_type": "code",
   "execution_count": null,
   "id": "3c8b6689-c538-491e-b537-6503901f25ea",
   "metadata": {},
   "outputs": [],
   "source": [
    "\n",
    "s_result <- scCAN(count_data,ncores=16,sparse=T)"
   ]
  },
  {
   "cell_type": "code",
   "execution_count": null,
   "id": "596bb553-acd3-44cc-b943-b8c43927ab13",
   "metadata": {},
   "outputs": [],
   "source": [
    "pbmc@meta.data$scan.clusters <- s_result$cluster\n",
    "Idents(object = pbmc)<- \"scan.clusters\"\n",
    "pbmc.markers <- FindAllMarkers(pbmc,min.pct = 0.25, logfc.threshold = 0.25)\n",
    "head(pbmc.markers)\n"
   ]
  },
  {
   "cell_type": "code",
   "execution_count": null,
   "id": "9cdb2fff-0804-47b1-bfbc-b14263c96676",
   "metadata": {},
   "outputs": [],
   "source": [
    "VlnPlot(pbmc, features = c(\"MS4A1\", \"CD79A\"))\n",
    "VlnPlot(pbmc, features = c(\"NKG7\", \"PF4\"), slot = \"counts\", log = TRUE)\n"
   ]
  },
  {
   "cell_type": "code",
   "execution_count": null,
   "id": "952be865-1c48-4427-b466-559d3ce12fe4",
   "metadata": {},
   "outputs": [],
   "source": [
    "library(dplyr)\n",
    "pbmc.markers %>%\n",
    "    group_by(cluster) %>%\n",
    "    top_n(n = 10, wt = avg_log2FC) -> top10\n",
    "DoHeatmap(pbmc, features = top10$gene) + NoLegend()"
   ]
  },
  {
   "cell_type": "code",
   "execution_count": null,
   "id": "d967476c-b758-49ed-aa3f-c7c428931345",
   "metadata": {},
   "outputs": [],
   "source": [
    "\n",
    "sc_umap=umap(s_result$latent)\n",
    "colnames(sc_umap) <- paste0(\"SCC_\", 1:2)\n",
    "row.names(sc_umap) <- row.names(pbmc@reductions$pca)\n",
    "colnames(sc_umap)\n",
    "pbmc[['scCANumap']]<-CreateDimReducObject(embeddings = sc_umap , key = \"SCC2_\", assay = DefaultAssay(pbmc))\n",
    "\n",
    "DimPlot(pbmc, reduction = \"umap\", label = TRUE, pt.size = 0.5) + NoLegend()\n",
    "DimPlot(pbmc, reduction = \"scCANumap\", label = TRUE, pt.size = 0.5 ) + NoLegend()\n"
   ]
  }
 ],
 "metadata": {
  "kernelspec": {
   "display_name": "R",
   "language": "R",
   "name": "ir"
  },
  "language_info": {
   "codemirror_mode": "r",
   "file_extension": ".r",
   "mimetype": "text/x-r-source",
   "name": "R",
   "pygments_lexer": "r",
   "version": "4.0.5"
  }
 },
 "nbformat": 4,
 "nbformat_minor": 5
}
