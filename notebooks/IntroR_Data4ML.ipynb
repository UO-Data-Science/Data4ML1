{
 "cells": [
  {
   "cell_type": "markdown",
   "id": "37b8c692-54b4-4bd3-92bf-a71edda153a2",
   "metadata": {},
   "source": [
    "# Gateway Week Introduction to R\n",
    "\n"
   ]
  },
  {
   "cell_type": "markdown",
   "id": "f0595814-5f96-406a-af12-2695237ad1de",
   "metadata": {},
   "source": [
    "#### Tomorrow: We will learn about Markdown formats and how to create annotated code like you are using today!\n",
    "#### Today: Let's focus on learning the basics of R"
   ]
  },
  {
   "cell_type": "markdown",
   "id": "7c115b58-bfbe-47a0-97dd-7b517a5d204a",
   "metadata": {},
   "source": [
    "## Learning Objectives\n",
    "#### * Learn to find HELP!\n",
    "#### * Learn to use the hashtag\n",
    "#### * Assign varaibales\n",
    "#### * Use vectors\n",
    "#### * Describe what a function is\n",
    "#### * Learn to ingest files\n",
    "#### * Learn how to manipulate a dataframe in R like we did in Bash\n",
    "#### * Learn to *Install* and *Load* packages \n",
    "#### * Learn some basic plotting including histograms, scatter plots, and box plots"
   ]
  },
  {
   "cell_type": "markdown",
   "id": "cb816857-cf61-4457-9ffe-1b5f09b220dd",
   "metadata": {},
   "source": [
    "## **Part One: Getting Help**\n",
    "#### The question mark '?' is your best friend in R\n",
    "#### Want to learn more about a function or package or anything just type ? and your query.\n",
    "\n",
    "#### Help! I want to know more about how to make a boxplot!"
   ]
  },
  {
   "cell_type": "code",
   "execution_count": null,
   "id": "de5f542e-0489-42fa-9666-f5e1b661c35c",
   "metadata": {},
   "outputs": [],
   "source": [
    "?boxplot"
   ]
  },
  {
   "cell_type": "markdown",
   "id": "1313efa8-4900-43bb-9cc0-b0eab5391b59",
   "metadata": {},
   "source": [
    "#### Go ahead and play around with the ? and look up something you are interested in"
   ]
  },
  {
   "cell_type": "markdown",
   "id": "d668b53f-ee0e-4944-a5c8-4b12633d889e",
   "metadata": {},
   "source": [
    "## **Part Two: Basic coding mechanics**"
   ]
  },
  {
   "cell_type": "markdown",
   "id": "ce695f49-5134-4780-8a07-ed16576cf558",
   "metadata": {},
   "source": [
    "### **(1) Using the hashtag**"
   ]
  },
  {
   "cell_type": "code",
   "execution_count": null,
   "id": "0df80f33-aa92-4c4d-bff9-6718ba7105ac",
   "metadata": {},
   "outputs": [],
   "source": [
    "# Use the hashtag to \"comment out\" anything you don't want to run.\n",
    "# Useful for making notes about what each line of code is doing!\n",
    "\n",
    "#I am adding 3 and 5\n",
    "3+5"
   ]
  },
  {
   "cell_type": "markdown",
   "id": "7dc5baed-163a-4a7b-9c0f-06f34113708e",
   "metadata": {},
   "source": [
    "#### Without the hashtag your sentence will be \"run\" as though they are code."
   ]
  },
  {
   "cell_type": "code",
   "execution_count": null,
   "id": "56faf4bb-c97e-4259-ba0f-adf16acdcea5",
   "metadata": {},
   "outputs": [],
   "source": [
    "I am adding 3 and 5\n",
    "3+5"
   ]
  },
  {
   "cell_type": "markdown",
   "id": "b6df6bdb-204d-4b1e-88e5-99b54b36e6d4",
   "metadata": {},
   "source": [
    "#### In Open OnDemand you will get an error message and in R Studio you will see a + sign meaning RStudio is continuing to try to run your \"code\". This is similar to getting hung-up in the terminal"
   ]
  },
  {
   "cell_type": "code",
   "execution_count": null,
   "id": "584c5e2e-d6ac-4f19-8721-22788f7d5bef",
   "metadata": {
    "tags": []
   },
   "outputs": [],
   "source": [
    "#Comment often!\n",
    "#### your future self will be so happy to be able to look back and know exactly what you did!\n",
    "# Use comments like a lab notebook ####\n",
    "\n",
    "######### The number of hashtags don't matter ########\n",
    "\n",
    "## New project genetic mapping neutrophil variation\n",
    "## Load Packages\n",
    "## Ingest raw csv file\n",
    "## Attempt one mapping as a single population\n",
    "## plot raw outputs \n",
    "## plot cleaned data using filter of 50"
   ]
  },
  {
   "cell_type": "markdown",
   "id": "9839e22e-9e4e-4b4e-9b41-5d04251a8687",
   "metadata": {},
   "source": [
    "#### We obviously want to learn to do more complicated things than add 3 and 5. The fist step is to learn to assign variables."
   ]
  },
  {
   "cell_type": "markdown",
   "id": "25a555d1-af87-44d1-8adf-81218982df96",
   "metadata": {},
   "source": [
    "### **(2) Assigning Variables**\n",
    "#### To assign a value to a variable we need: \n",
    "#### - to name our variable\n",
    "#### - use the *assignment operator* <- \n",
    "#### - give the value of our variable"
   ]
  },
  {
   "cell_type": "code",
   "execution_count": null,
   "id": "2c2645b7-44c4-4cf0-ac50-d92701a2099f",
   "metadata": {},
   "outputs": [],
   "source": [
    "#assign a variable called \"variable\" a value of 3\n",
    "variable <- 3\n",
    "\n",
    "#add variable and 5\n",
    "variable + 5"
   ]
  },
  {
   "cell_type": "markdown",
   "id": "dc3fa72a-1c8d-4285-810d-64edef08e741",
   "metadata": {},
   "source": [
    "#### Why is this useful? Why not just add 3 + 5?\n",
    "#### This is a super simple case.\n",
    "\n",
    "\n",
    "### Tips for assigning and naming variables:\n",
    "#####  - You will thank your past-self if you pick variable names that are descriptive.\n",
    "#####  - Remember if you are typing you are doing it wrong! \n",
    "#####  - If you have assigned a variable previously you can recall it using tab complete.\n",
    "#####  - Avoid special characters. NO SPACES. The underscore is your best friend for readable names. Penguin_height for example.\n",
    "#####  - Variable names are case sensitive. Penguin_height and Penguin_Height are different variables.\n",
    "#####  - You cannot begin a variable name with a number, but you can use numbers in the name. 2X is not ok but X2 is.\n",
    "\n",
    "#### Assigning variables is necessary in R. We often don't assign a single value to a variable but maybe assign a list of values to be used to run a program. These can be stored using a vector.\n",
    "\n",
    "### **(3) Vectors**\n",
    "#### A vector is the most common and basic data structure in R, and is pretty much the workhorse of R. It’s basically just a list of values, mainly either numbers or characters.\n",
    "\n",
    "#### You can assign this list of values to a variable, just like you would for one item. For example we can create a vector of genome lengths:\n"
   ]
  },
  {
   "cell_type": "code",
   "execution_count": null,
   "id": "1747eae4-2815-4222-b760-cb85424837ca",
   "metadata": {},
   "outputs": [],
   "source": [
    "### Create a vector of heights for male penguins\n",
    "\n",
    "male_height_meters <- c(1.1, 1,2, 1.6, 1.3)\n",
    "\n",
    "#View my male height vector by running the variable name\n",
    "male_height_meters\n",
    "\n",
    "#Did you use tab complete?\n",
    "\n",
    "#Create another vector for heights of female penguins\n",
    "female_height_meters <- c(0.8, 0.75, 1, 0.9)\n",
    "\n",
    "#View my female height vector\n",
    "female_height_meters"
   ]
  },
  {
   "cell_type": "markdown",
   "id": "9fcfa79d-0e1e-42cf-9729-867239702aa4",
   "metadata": {},
   "source": [
    "#### Now that I have my vectors the world is my oyster! \n",
    "#### I can  use the power of R to compare these vectors statistically or plot them is cool ways using R packages and R functions!\n",
    "\n",
    "### **(4) Functions**\n",
    "#### Another key feature of R are functions: R’s built in capabilities. \n",
    "##### - Some are mathematical functions, like *sqrt* and *round*.\n",
    "##### - some are great for plotting like *plot*.\n",
    "##### - Some are from libraries/packages (which we’ll talk about in a bit)\n",
    "##### - or you can even write your own (which you will learn to do later today!)\n",
    "\n",
    "#### Functions are “canned scripts” that automate something complicated or convenient or both."
   ]
  },
  {
   "cell_type": "code",
   "execution_count": null,
   "id": "c1f1d4c3-239a-40ce-9094-4d6b838fc863",
   "metadata": {},
   "outputs": [],
   "source": [
    "## Functions work following a standard format function(argument)\n",
    "## Let's try a simple example by calling the function round\n",
    "\n",
    "#round(3.14159265)\n",
    "\n",
    "## We can also use a variable or vector as an argument\n",
    "## Is average height significantly different between male and female penguins?\n",
    "## Let's do a t test to see\n",
    "\n",
    "sex_height_compare <-t.test(male_height_meters,female_height_meters)\n",
    "sex_height_compare\n",
    "\n",
    "##If your question mark search fails you can use google to find the right search term\n",
    "## Example ?ttest fails but ?t.test works. I had to google that one!"
   ]
  },
  {
   "cell_type": "markdown",
   "id": "1a30aae4-4df7-472c-b428-da840ea36970",
   "metadata": {},
   "source": [
    "#### Functions can get more complicated and have lots of flags as options. The question mark can help you navigate new functions to find out what you need and what your options are.\n",
    "\n",
    "#### Working with vectors is great but sometimes we have outside data files we want to work with.\n",
    "#### For example, we may have a csv file or large data frame we want to use.\n",
    "\n",
    "### **(5) Ingesting Files**"
   ]
  },
  {
   "cell_type": "code",
   "execution_count": null,
   "id": "c810d1c2-4b0c-4c8f-8ebf-ce857f485dc9",
   "metadata": {},
   "outputs": [],
   "source": [
    "## There are small differences between loading different file types \n",
    "\n",
    "#You can read in many types of files using these common components:\n",
    "#file: the path to the file containing the data to be imported into R.\n",
    "#sep: the field separator character. “\\t” is used for tab-delimited file.\n",
    "#header: logical value. If TRUE, read.table() assumes that your file has a header row, so row 1 is the name of each column. If that’s not the case, you can add the argument header = FALSE.\n",
    "#dec: the character used in the file for decimal points.\n",
    "\n",
    "### Read tabular data into R\n",
    "#read.table(file, header = FALSE, sep = \"\", dec = \".\")\n",
    "\n",
    "###\n",
    "# Read \"comma separated value\" files (\".csv\")\n",
    "###read.csv(file, header = TRUE, sep = \",\", dec = \".\")\n",
    "\n",
    "## We can assign a variable to our outside file to be used in the R environment\n",
    "penguins <- read.csv(\"penguins.csv\", header = TRUE, sep = \",\", dec = \".\")"
   ]
  },
  {
   "cell_type": "markdown",
   "id": "420f9f67-7a1f-4bba-b885-3f854a32949b",
   "metadata": {},
   "source": [
    "#### Now that we have ingested out file we can manipulate it like we did using bash\n",
    "\n",
    "\n",
    "### **(6) Dataframe manipulations**\n",
    "\n",
    "#### Once ingested dataframes can be manipulated using a simple common convention [rows,columns]\n"
   ]
  },
  {
   "cell_type": "code",
   "execution_count": null,
   "id": "3dc0749b-a652-4be4-a3ee-328d37f6f0ca",
   "metadata": {},
   "outputs": [],
   "source": [
    "#### Let's play around with our penguin file\n",
    "\n",
    "#make a new file of just columns 1, 6, 7\n",
    "penguins_cut <- penguins[,-c(2:5,8)]\n",
    "\n",
    "#If we want to assign variable to individual columns we can do that as well using the header labels\n",
    "flipper_length <- penguins$flipper_length_mm\n",
    "body_mass <- penguins$body_mass_g\n",
    "\n",
    "#Once we have our files prepared how we want them we are ready to use any functions we choose."
   ]
  },
  {
   "cell_type": "markdown",
   "id": "ab2dfe47-1594-4eb9-840b-1587b6153bab",
   "metadata": {},
   "source": [
    "### **(7) Installing and Loading Packages**\n",
    "\n",
    "#### We talked before about the wide range of R packages available from a series of open source repositories\n",
    "#### Once I have identified a package I want to use how do I install it? How do I use it?"
   ]
  },
  {
   "cell_type": "code",
   "execution_count": null,
   "id": "a490ce05-26eb-4589-a422-d719283ce0eb",
   "metadata": {},
   "outputs": [],
   "source": [
    "#Install a package\n",
    "install.packages(\"\")\n",
    "#The exact package name goes inside the quotes. R Studio or Open  OnDemand can then install your desired package.\n",
    "\n",
    "#Loading an installed package from your library\n",
    "library()"
   ]
  },
  {
   "cell_type": "markdown",
   "id": "ecb54570-c68e-4de0-b2fe-f9f19fb7f13e",
   "metadata": {},
   "source": [
    "#### We are going to work with more R packages later in some hands on ML exercises but for now let's pivot to another useful feature of R...\n",
    "\n",
    "## **Part Three: Plotting!**"
   ]
  },
  {
   "cell_type": "markdown",
   "id": "59fac772-d45d-4277-9ad0-677f0fb5e008",
   "metadata": {},
   "source": [
    "#### Remember the Question Mark. We will talk through some basic plotting here, but you can use the question mark function to learn about other data visualization options."
   ]
  },
  {
   "cell_type": "code",
   "execution_count": null,
   "id": "faec39a8-a85c-4b4d-abc3-da958dc39528",
   "metadata": {},
   "outputs": [],
   "source": [
    "#Uncomment the one you want info on!\n",
    "\n",
    "## Get info on scatterplots\n",
    "#?plot\n",
    "\n",
    "##Get info on histograms\n",
    "?hist\n",
    "\n",
    "## Get info on boxplots\n",
    "#?boxplot\n"
   ]
  },
  {
   "cell_type": "markdown",
   "id": "7a3d71d3-221d-4835-8695-a87f8e20e4e5",
   "metadata": {},
   "source": [
    "#### We won't have time to go through all of these but there is a ton of online resources for making pretty plots in R.\n",
    "\n",
    "#### **Come by office hours tomorrow if you want to work on plotting**\n",
    "\n",
    "#### For now let's go throuh an example using scatterplots"
   ]
  },
  {
   "cell_type": "code",
   "execution_count": null,
   "id": "f872057d-85fd-4bae-973a-bffd81f861cc",
   "metadata": {},
   "outputs": [],
   "source": [
    "#Plotting a scatter plot of flipper length to body mass using penguins.csv\n",
    "\n",
    "#Step 1: Read in my csv file\n",
    "penguins_all <- read.csv(\"penguins.csv\", header = TRUE, sep = \",\", dec = \".\")\n",
    "\n",
    "#Define my x and y axes\n",
    "x = penguins_all$flipper_length_mm\n",
    "y = penguins_all$body_mass_g\n",
    "\n",
    "#Make a basic scatterplot\n",
    "plot(x,y)\n",
    "\n",
    "#This isn't a very useful plot! Let's play around with color and shape options to make outr plot more informative.\n",
    "\n",
    "#Common useful flags when plotting\n",
    "#cex- point size, play around with various values to select a plot size that works for you\n",
    "plot(x,y, cex = 2)\n",
    "#pch- point shape google pch in R to get a list of options\n",
    "plot(x,y, cex = 1.5, pch = 19)\n",
    "#col- used to set a color, there are TONS of otions in R google R color codes to get a list\n",
    "plot(x,y,cex = 1.5, pck = 19, col =\"blue\")\n",
    "\n",
    "#Prettier, but still not useful\n",
    "\n",
    "#Let's make a plot with points of different colors based on species of penguin\n",
    "#There are several ways to do this\n",
    "\n",
    "#option 1 if else statements\n",
    "\n",
    "plot(x,y, cex = 1.5, pch = 19, col = ifelse(penguins$species == \"Adelie\", \"orange\", ifelse(penguins$species == \"Chinstrap\", \"purple\",\"darkcyan\")))\n",
    "\n",
    "#A few notes on ifelse statements\n",
    "# you have to use two equal signs to indicate you need an exact match\n",
    "# you can also use < > <= >= if you want to color by a numerical value for example color all point less than 200 blue\n",
    "#Ifelse statements are ok when working with small numbers of groups but can get annoying if you are plotting a lot\n",
    "\n",
    "#Another option is using a vector\n",
    "\n",
    "colors <- c(\"orange\", \"purple\", \"darkcyan\")\n",
    "plot(x,y,cex = 1.5, pch = 19, col = colors[factor(penguins$species)])\n",
    "\n",
    "#Go ahead and change the shapes of the points based on sex!\n",
    "#follow the same logic as we did with color but using pch\n",
    "\n"
   ]
  },
  {
   "cell_type": "markdown",
   "id": "017a7222-458c-4564-84a8-e2cfbf434446",
   "metadata": {},
   "source": [
    "#### Histograms are similar in coding structure to scatterplots with slightly differnt options for making pretty plots"
   ]
  },
  {
   "cell_type": "code",
   "execution_count": null,
   "id": "a28d36d5-a19f-4928-b02f-8efc6917d767",
   "metadata": {},
   "outputs": [],
   "source": [
    "# Make a histogram\n",
    "hist(penguins$flipper_length_mm)\n",
    "\n",
    "#Other useful tips\n",
    "#use add =TRUE to pile plot on top of one another\n",
    "#use xlim and ylim to manually set axes\n",
    "#use abline h = 3 to add a horizontal line at the value of 3 (or whatever value you want)\n",
    "\n",
    "#The limits are endless in R"
   ]
  },
  {
   "cell_type": "markdown",
   "id": "1a929935-1e90-4756-9c0f-a177512992da",
   "metadata": {},
   "source": [
    "### **Tonight for homework try to make a histogram by species of flipper length!**\n",
    "\n",
    "#### Boxplots are also extremely useful and can be a bit trickier to get right"
   ]
  },
  {
   "cell_type": "code",
   "execution_count": null,
   "id": "78993b3f-42a0-49f9-be32-5fd6ea42d15d",
   "metadata": {},
   "outputs": [],
   "source": [
    "#Let's keep using our penguin data and compare body mass for females across the species using a boxplot\n",
    "\n",
    "#Lot's of ways to get our data ready for this I like to use my favorite sed to make subsets of my data\n",
    "\n",
    "#Make a csv file for female penguins from each species called Chinstrap_females.csv, Adelie_females.csv, Gentoo_females.csv\n",
    "\n",
    "#Ingest those csv files\n",
    "Adelie_females <- read.csv(\"Adelie_females.csv\", header = TRUE, sep = \",\", dec = \".\")\n",
    "Chinstrap_females <- read.csv(\"Chinstrap_females.csv\", header = TRUE, sep = \",\", dec = \".\")\n",
    "Gentoo_females <- read.csv(\"Gentoo_females.csv\", header = TRUE, sep = \",\", dec = \".\")\n",
    "\n",
    "boxplot(Adelie_females$flipper_length_mm, Chinstrap_females$flipper_length_mm, Gentoo_females$flipper_length_mm) \n",
    "\n",
    "#This makes a basic boxplot, but we want to make this pretty.\n",
    "#To do that, add extra lines of code for each box plot to specify intructions\n",
    "#you still use the same flags for color \"col\", point shape \"pch\", sixe \"cex\", etc.\n",
    "\n",
    "stripchart(Adelie_females$flipper_length_mm, vertical = TRUE, method = \"jitter\", add = TRUE)\n",
    "\n",
    "#You can make boxplots horizontal by making vertical = FALSE\n",
    "#method = \"jitter\" is one of the most useful flags which means SHOW ME THE DATA!\n",
    "#add = TRUE overlays these changes on you existing plot\n",
    "\n",
    "#Go ahead and match our colors to our scatterplor by population, play around with point size and make them all jittered"
   ]
  },
  {
   "cell_type": "code",
   "execution_count": null,
   "id": "370843b6-bbac-4cd9-9d63-4d69469126c7",
   "metadata": {},
   "outputs": [],
   "source": []
  }
 ],
 "metadata": {
  "kernelspec": {
   "display_name": "R",
   "language": "R",
   "name": "ir"
  },
  "language_info": {
   "codemirror_mode": "r",
   "file_extension": ".r",
   "mimetype": "text/x-r-source",
   "name": "R",
   "pygments_lexer": "r",
   "version": "4.0.5"
  }
 },
 "nbformat": 4,
 "nbformat_minor": 5
}
