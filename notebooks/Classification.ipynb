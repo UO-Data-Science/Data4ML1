{
 "cells": [
  {
   "cell_type": "code",
   "execution_count": null,
   "id": "995e8559-0ffe-4883-8efd-cac174a06139",
   "metadata": {},
   "outputs": [],
   "source": [
    ".libPaths('/gpfs/projects/datascience/shared/R/Data4ML')\n",
    "library('randomForest')"
   ]
  },
  {
   "cell_type": "markdown",
   "id": "347c2d45-ec03-425a-9c30-897292ca816a",
   "metadata": {},
   "source": [
    "# Classification Algorithms\n",
    "\n",
    "All machine learning is trying to approximate a function that maps some inputs to outputs.\n",
    "\n",
    "\n",
    "Classification is a type of Machine Learning algorithm that aims to predict the class something belongs to from a set of features. Inputs vary, but the output is the probability that an example belongs to a class.\n",
    "\n",
    "Examples\n",
    "* From pixels in an image, predict whether it's a dog or a cat\n",
    "* From social media text, determine if a statement is positive or negative. \n",
    "* From measurements of an animal, determine its species\n",
    "\n",
    "\n",
    "Two main categories\n",
    "* Binary classification - You have only two classes Positive/Negative, True/False, Cat/Dog\n",
    "  * Target values are a 0 or a 1\n",
    "  * Target values can be string label Dog/Cat\n",
    "  \n",
    "* Multiclass Classification - You have several classes Cat/Dog/Bird, 0/1/2/3/4/5/6... \n",
    "  * Target values can be expressed in several ways\n",
    "      * A string with a class's label\n",
    "      * A number labeling the class\n",
    "      * A one-hot encoded vector which is a vector with length equal to the number of classes with precisely one entry labeled as a one and the rest zero.\n",
    "          * i.e., For three classes\n",
    "          * The first class is represented as  [1,0,0]\n",
    "          * The first class is represented as  [0,1,0]\n",
    "          * The first class is represented as  [0,0,1]\n",
    "\n",
    "\n",
    "\n",
    "\n"
   ]
  },
  {
   "cell_type": "markdown",
   "id": "c1cc2b20-8900-4957-b258-f10ba2535e60",
   "metadata": {},
   "source": [
    "# Example Datasets\n",
    "Let's look at some example datasets to see if they are AI-Ready\n",
    "\n",
    "* Are their clear data splits?\n",
    "* Are there missing values?\n",
    "* Is there at least one clear target?\n",
    "* Is the dataset Tidy? "
   ]
  },
  {
   "cell_type": "code",
   "execution_count": null,
   "id": "1c32d7a6-e450-4a07-a87a-0e4565b7a530",
   "metadata": {},
   "outputs": [],
   "source": [
    "install.packages('ISLR')"
   ]
  },
  {
   "cell_type": "code",
   "execution_count": null,
   "id": "10d83dc6-6612-423e-82d7-7d5eaeca5bc3",
   "metadata": {},
   "outputs": [],
   "source": [
    "library('ISLR')"
   ]
  },
  {
   "cell_type": "markdown",
   "id": "a0837777-77b0-42bb-9e91-b075d37f401c",
   "metadata": {},
   "source": [
    "# Binary Data \n",
    "What kind of OJ did you buy Minute Made or Citrus Hill"
   ]
  },
  {
   "cell_type": "code",
   "execution_count": null,
   "id": "c341fcc7-8aae-4771-a456-08b6993cb883",
   "metadata": {},
   "outputs": [],
   "source": [
    "head(OJ)"
   ]
  },
  {
   "cell_type": "markdown",
   "id": "344aa08e-6efc-49de-989f-517f800fb333",
   "metadata": {},
   "source": [
    "## Question: is this dataset AI Ready?"
   ]
  },
  {
   "cell_type": "markdown",
   "id": "891f9b80-f110-4212-80fe-e71ecf39279a",
   "metadata": {},
   "source": [
    "# Khan Gene Data\n",
    "\n",
    "* Divided: into xtrain,xtest,ytrain,ytest\n",
    "* Inputs: Gene expression values for 2308 genes from tissue samples\n",
    "* Target: 4 types of small round blue cell tumors\n",
    "\n",
    "\n"
   ]
  },
  {
   "cell_type": "code",
   "execution_count": null,
   "id": "1028b17d-a9c8-482d-b41f-52ee8df21331",
   "metadata": {},
   "outputs": [],
   "source": [
    "View(Khan)"
   ]
  },
  {
   "cell_type": "markdown",
   "id": "ca29d73b-8081-4195-bb26-29336309ca71",
   "metadata": {},
   "source": [
    "## Question is this dataset AI Ready?"
   ]
  },
  {
   "cell_type": "code",
   "execution_count": null,
   "id": "a19fee1d-3727-45d3-b7c4-109a0c7e6503",
   "metadata": {},
   "outputs": [],
   "source": [
    "library(\"titanic\")\n",
    "\n"
   ]
  },
  {
   "cell_type": "code",
   "execution_count": null,
   "id": "47ac84cf-4bc3-41da-831d-4a4e276fd666",
   "metadata": {},
   "outputs": [],
   "source": [
    "head(titanic_train)\n",
    "head(titanic_test)"
   ]
  },
  {
   "cell_type": "markdown",
   "id": "8f2153cd-7ae7-4517-aef1-67745fb0ce69",
   "metadata": {},
   "source": [
    "## Question is this dataset AI Ready?"
   ]
  },
  {
   "cell_type": "markdown",
   "id": "a9649134-558d-40a9-963d-5d48e3960930",
   "metadata": {},
   "source": [
    "## It can be hard to find AI Ready datasets \n",
    "* That's okay, because most are close enough that we can fix them.\n",
    "\n",
    "* We're going to take an existing dataset of wine rankings and try a classifier on it\n",
    "    * Make a test/train split\n",
    "    * Define a target\n",
    "    * Check for missing values!\n",
    "    * Train and ML model!"
   ]
  },
  {
   "cell_type": "markdown",
   "id": "9395b760-458d-4812-8707-e806a0ad4dee",
   "metadata": {},
   "source": [
    "# Create a Wine-dataset\n",
    "read in data from two csvs, and combine them in R (we could do the same in bash)\n"
   ]
  },
  {
   "cell_type": "code",
   "execution_count": null,
   "id": "4beb2ea1-1b21-4f5b-a943-23866221a668",
   "metadata": {},
   "outputs": [],
   "source": [
    "red<-read.csv('../data/wine/winequality-red.csv',header=TRUE,sep=';')\n",
    "white<-read.csv('../data/wine/winequality-white.csv',header=TRUE,sep=';')\n",
    "#Let's combine both datasets and add a column to distingush red vs white\n",
    "red$isred <-1\n",
    "white$isred <-0"
   ]
  },
  {
   "cell_type": "code",
   "execution_count": null,
   "id": "c6a6e808-e895-4c06-9902-5fbf09978fe3",
   "metadata": {},
   "outputs": [],
   "source": [
    "head(red)\n"
   ]
  },
  {
   "cell_type": "code",
   "execution_count": null,
   "id": "eb23abb3-4181-4ed1-9e22-06e0637d3a85",
   "metadata": {},
   "outputs": [],
   "source": [
    "all=merge(red,white,all=TRUE)\n",
    "#Check for missing values\n",
    "is.null(all)"
   ]
  },
  {
   "cell_type": "markdown",
   "id": "7140ea9a-a020-4f1a-9c3c-b6e41c1c18dc",
   "metadata": {},
   "source": [
    "## Split the data into 80% train and 20% test\n",
    "use the sample command to randomly select indices\n"
   ]
  },
  {
   "cell_type": "code",
   "execution_count": null,
   "id": "75ca389d-d4b7-4828-a62a-3fd2cf02e10e",
   "metadata": {},
   "outputs": [],
   "source": [
    "?sample"
   ]
  },
  {
   "cell_type": "code",
   "execution_count": null,
   "id": "168b1a09-2fa3-46d3-90e1-3512fb06a1d1",
   "metadata": {},
   "outputs": [],
   "source": [
    "# Randomly Select training indices\n",
    "train_index <- sample(seq_len(nrow(all)),size= nrow(all)*.8, replace=FALSE )\n",
    "\n",
    "\n",
    "#Split the data\n",
    "wine_train <- all[train_index,]\n",
    "wine_test <- all[-train_index,]\n"
   ]
  },
  {
   "cell_type": "markdown",
   "id": "f307c881-0a75-4fc7-8150-83de25776bdd",
   "metadata": {
    "tags": []
   },
   "source": [
    "# Classification Algorithms\n",
    "\n",
    "There are several kinds of classification algorithms\n",
    "* Logistic Regression \n",
    "* Support Vector Machine\n",
    "* Random Forest\n",
    "* Deep Neural Networks\n",
    "* Lots more\n",
    "\n",
    "It's common to try several to see which one works best; however, a few things to think about\n",
    "* Not all algorithms do multi-class classification\n",
    "* Some algorithms are computationally expensive\n",
    "* Some work better on bigger datasets\n",
    "* We are working with structured data, but generally, different kinds of data will need different kinds of algorithms\n",
    "You'll have to try and balance the tradeoffs for your problem.\n",
    "\n",
    "Today we will start with Random Forests which can be used with both binary and multi-class classification. **For now, just think of it as a kind of program that learns from examples**\n",
    "\n",
    "## There are some differences in how algorithms work in the two classification cases\n",
    "\n",
    "* Outputs for binary classification is just a single number between 0-1 that it belongs to the first class (or which every class is labeled by a 1/True). The probability it belongs to a second class is just one minus the probability of the first class.\n",
    "\n",
    "* Outputs for multi-class classification is one number **per** class with the probability that the example belongs to that class **the sum of all these numbers must equal one**\n",
    "\n",
    "* It's true that binary classification is a subset of multi-class classification (with just two classes), but it is common you'll see the distinction\n",
    "\n",
    "## Probability to Predictions\n",
    "Classification models often output probability, but if you want to calculate things like accuracy, you need to guess the true class:\n",
    "* Binary classification if probability > 0.5 True otherwise False\n",
    "* Multi-class classification prediction has the greatest probability\n",
    "**You don't have to follow these rules** - you can use your own thresholds if you want to be more confident in your predictions\n",
    "\n",
    "\n",
    "# Random Forests"
   ]
  },
  {
   "cell_type": "code",
   "execution_count": null,
   "id": "5ed35003-ec3b-444e-be1f-6c5871d3c9e9",
   "metadata": {
    "tags": []
   },
   "outputs": [],
   "source": [
    "?randomForest"
   ]
  },
  {
   "cell_type": "markdown",
   "id": "68edc002-9f40-4204-936e-97ac25c41aaa",
   "metadata": {},
   "source": [
    "Lots of options, but the simplest usage is just giving this function an x and a y.\n",
    "https://www.rdocumentation.org/packages/randomForest/versions/4.7-1/topics/randomForest\n",
    "```R\n",
    "# S3 method for formula\n",
    "randomForest(formula, data=NULL, ..., subset, na.action=na.fail)\n",
    "# S3 method for default\n",
    "randomForest(x, y=NULL,  xtest=NULL, ytest=NULL, ntree=500,\n",
    "             mtry=if (!is.null(y) && !is.factor(y))\n",
    "             max(floor(ncol(x)/3), 1) else floor(sqrt(ncol(x))),\n",
    "             weights=NULL,\n",
    "             replace=TRUE, classwt=NULL, cutoff, strata,\n",
    "             sampsize = if (replace) nrow(x) else ceiling(.632*nrow(x)),\n",
    "             nodesize = if (!is.null(y) && !is.factor(y)) 5 else 1,\n",
    "             maxnodes = NULL,\n",
    "             importance=FALSE, localImp=FALSE, nPerm=1,\n",
    "             proximity, oob.prox=proximity,\n",
    "             norm.votes=TRUE, do.trace=FALSE,\n",
    "             keep.forest=!is.null(y) && is.null(xtest), corr.bias=FALSE,\n",
    "             keep.inbag=FALSE, ...)\n",
    "# S3 method for randomForest\n",
    "print(x, ...)\n",
    "```"
   ]
  },
  {
   "cell_type": "code",
   "execution_count": null,
   "id": "b9bdfa8f-ca7b-4c3a-a906-0b3a503ab38f",
   "metadata": {},
   "outputs": [],
   "source": [
    "# Let's get our x's and y's \n",
    "# In this case lets try to predict if a wine is red or white\n",
    "\n",
    "x<-subset(wine_train, select=-isred)\n",
    "y<-as.factor(wine_train$isred)\n",
    "\n",
    "xtest<-subset(wine_test, select=-isred)\n",
    "ytest<-as.factor(wine_test$isred)\n",
    "\n",
    "\n"
   ]
  },
  {
   "cell_type": "code",
   "execution_count": null,
   "id": "2ce6cad6-5222-411e-a5de-6f3d2415be7a",
   "metadata": {},
   "outputs": [],
   "source": [
    "rf=randomForest(x,y,xtest,ytest,ntree=1000,importance=TRUE,keep.forest=TRUE)\n",
    "rf"
   ]
  },
  {
   "cell_type": "markdown",
   "id": "da710ee1-6bde-4d7d-977f-1b430740b661",
   "metadata": {},
   "source": [
    "# Predictions"
   ]
  },
  {
   "cell_type": "code",
   "execution_count": null,
   "id": "559054aa-424e-4d42-92fd-7d4c00ef18f7",
   "metadata": {},
   "outputs": [],
   "source": [
    "#Predict Classes Red or White\n",
    "outputs=predict(rf,xtest,type='response')\n",
    "head(outputs)\n",
    "\n",
    "#Predict Probabilities Red or White\n",
    "cont_outputs=predict(rf,xtest,type='prob')\n",
    "head(cont_outputs)\n"
   ]
  },
  {
   "cell_type": "markdown",
   "id": "1cff33c7-92bf-4a96-8a67-a4614cb7c2f5",
   "metadata": {},
   "source": [
    "# Check the quality of predictions with a histogram\n",
    "\n",
    "If everything worked well, the red wines should have probabilities near one and whites near zero"
   ]
  },
  {
   "cell_type": "code",
   "execution_count": null,
   "id": "67c57614-e346-4174-a128-34fdf3cf3b66",
   "metadata": {},
   "outputs": [],
   "source": [
    "options(repr.plot.width=20,repr.plot.height=10)\n",
    "ax<-pretty(0:1,n=50)\n",
    "hRed<-hist(cont_outputs[ytest==1,2],plot=FALSE,breaks=ax)\n",
    "hWhite<-hist(cont_outputs[ytest==0,2],plot=FALSE,breaks=ax)\n",
    "\n",
    "c1=rgb(1,.1,.2,alpha=.80)\n",
    "c2=rgb(1,1.,.2,alpha=.80)\n",
    "\n",
    "plot(hWhite,col=c2,xlab='P(Red|X)')\n",
    "plot(hRed, col=c1,add=TRUE)\n",
    "legend(.8,600,legend=c('Whites','Reds'),fill=c(c2,c1))\n"
   ]
  },
  {
   "cell_type": "code",
   "execution_count": null,
   "id": "6ff3960a-f74b-4bb1-8cb8-796ce61ce50b",
   "metadata": {},
   "outputs": [],
   "source": [
    "#List Red wines with the highest probability of being white wines\n",
    "index<-sort(cont_outputs[ytest==1,1],decreasing=TRUE)\n",
    "index[1:10]\n",
    "# Let's look at the most 'white-like' red\n",
    "all[583,]\n"
   ]
  },
  {
   "cell_type": "markdown",
   "id": "9f3389f6-fc75-4cc1-b0d4-ae28a633abac",
   "metadata": {},
   "source": [
    "# Importance\n",
    "\n",
    "A good next question is what why there are some outliers and how the model is deciding between what is a red wine and what is a white wine.\n",
    "\n",
    "* This is another thing to think about when selecting a model, how easy is it to get out meaningful information about how it's making decisions\n",
    "\n",
    "* Random forests often use **Mean Decrease in Accuracy** - which means how much worse in the classifier when a variable is not included. If the classifier is bad after removing a variable, it is considered important."
   ]
  },
  {
   "cell_type": "code",
   "execution_count": null,
   "id": "5e4746e6-0c08-4936-a5f0-f63265a9ce55",
   "metadata": {},
   "outputs": [],
   "source": [
    "\n",
    "importance(rf)"
   ]
  },
  {
   "cell_type": "markdown",
   "id": "4c87b2d9-8fba-40e8-882f-d52cac874f3b",
   "metadata": {},
   "source": [
    "# Question\n",
    "\n",
    "Is a higher total sulfur dioxide more or less likely in red wine? \n",
    "\n"
   ]
  },
  {
   "cell_type": "code",
   "execution_count": null,
   "id": "a56d13eb-7ee6-4d19-bbed-a0d6e56f8f9a",
   "metadata": {},
   "outputs": [],
   "source": [
    "\n",
    "ax<-pretty(0:500,n=100)\n",
    "\n",
    "hRed<-hist(red$'total.sulfur.dioxide',plot=FALSE,breaks=ax)\n",
    "hWhite<-hist(white$'total.sulfur.dioxide',plot=FALSE,breaks=ax)\n",
    "\n",
    "c1=rgb(1,.1,.2,alpha=.80)\n",
    "c2=rgb(1,1.,.2,alpha=.80)\n",
    "\n",
    "plot(hWhite,col=c2)\n",
    "plot(hRed, col=c1,add=TRUE)\n"
   ]
  },
  {
   "cell_type": "markdown",
   "id": "a7896c2a-89fa-402d-abaa-6607bd6d0d0b",
   "metadata": {},
   "source": [
    "# Exercise \n",
    "We had one red wine classify as exceptionally white-like. From the importance values and histogram plots you make. Can you find out why one of the red wines was classified very likely as a white wine?"
   ]
  },
  {
   "cell_type": "code",
   "execution_count": null,
   "id": "ef403022-43d1-460a-8936-9f6148eb14ef",
   "metadata": {},
   "outputs": [],
   "source": [
    "\"Your Code\"\n"
   ]
  },
  {
   "cell_type": "markdown",
   "id": "1dc38468-9e7f-4ab4-b441-8f4f56090bdd",
   "metadata": {},
   "source": [
    "# Quality Exercise\n",
    "\n",
    "Now lets try to predict the quality of wine as evaluated by a panel. \n",
    "\n",
    "* Ratings in the dataset go from 3-9 \n",
    "* How could we turn this into a **binary** classification problem\n"
   ]
  },
  {
   "cell_type": "code",
   "execution_count": null,
   "id": "9ad6c472-df86-4d39-a6c9-adde87801012",
   "metadata": {},
   "outputs": [],
   "source": [
    "\"Your Code\""
   ]
  },
  {
   "cell_type": "markdown",
   "id": "0785c988-571a-4ecf-b9ed-878d2da76fd4",
   "metadata": {},
   "source": [
    "Now Train your own random forest and see if you can determine what the most important factors influencing wine quality are?"
   ]
  },
  {
   "cell_type": "code",
   "execution_count": null,
   "id": "627055d3-9c21-4f16-8ed1-421d7c892a48",
   "metadata": {},
   "outputs": [],
   "source": [
    "\"Your Code\""
   ]
  },
  {
   "cell_type": "markdown",
   "id": "6ccd6e4d-3e9e-46de-93da-954aa174cbca",
   "metadata": {},
   "source": [
    "# How much data do you need?\n",
    "\n",
    "This is a trick question - lets see when we train with different dataset sizes"
   ]
  },
  {
   "cell_type": "code",
   "execution_count": null,
   "id": "ca7826c9-a17a-4573-afac-05dc9f39fe8b",
   "metadata": {},
   "outputs": [],
   "source": [
    "nd=500\n",
    "y_data <- c()\n",
    "x_axis=seq(from=10,to=nrow(x),by=100)\n",
    "for (nd in x_axis){\n",
    "    rf=randomForest(x[1:nd,],y[1:nd],xtest,ytest,ntree=500,importance=TRUE)\n",
    "    y_data<-append(y_data,rf$test$err.rate[500,1])\n",
    "}"
   ]
  },
  {
   "cell_type": "code",
   "execution_count": null,
   "id": "cd57b20c-d237-40f8-82d1-75ae538c8490",
   "metadata": {},
   "outputs": [],
   "source": [
    "plot(x_axis,y_data,log='yx',xlab='# of Examples',ylab=\"Error Rate\")"
   ]
  },
  {
   "cell_type": "markdown",
   "id": "4955402f-a41f-4dc0-b141-e05513dfe90c",
   "metadata": {},
   "source": [
    "# Significance\n",
    "\n",
    "Permutation tests can be used to get estimates if the importance values of each random forest are significant or not, and there is a package for that!\n"
   ]
  },
  {
   "cell_type": "code",
   "execution_count": null,
   "id": "c24bc5af-556f-4443-9123-996414d158e9",
   "metadata": {},
   "outputs": [],
   "source": [
    " install.packages('rfPermute',lib='/gpfs/projects/datascience/jsearcy/R/x86_64-conda-linux-gnu-library/4.1')"
   ]
  },
  {
   "cell_type": "code",
   "execution_count": null,
   "id": "588c50d1-7a76-4a1a-92ca-efceb1683a3e",
   "metadata": {},
   "outputs": [],
   "source": [
    "library('rfPermute')\n"
   ]
  },
  {
   "cell_type": "code",
   "execution_count": null,
   "id": "55e6ddf3-2be5-47fc-b1bc-b23e78800fe3",
   "metadata": {},
   "outputs": [],
   "source": [
    "rf_ptest<-rfPermute(x,y,num.cores=4,num.rep=200,ntree=100)"
   ]
  },
  {
   "cell_type": "markdown",
   "id": "125c07ad-249f-46bf-9aa0-25f9958a6f76",
   "metadata": {},
   "source": [
    "# While you're waiting\n",
    "Try opening a new terminal and running\n",
    "```bash\n",
    "top -u <your user name>\n",
    "```"
   ]
  },
  {
   "cell_type": "code",
   "execution_count": null,
   "id": "4e4e0e45-6853-4399-b7b4-468363eae6a6",
   "metadata": {},
   "outputs": [],
   "source": [
    "importance(rf_ptest)"
   ]
  }
 ],
 "metadata": {
  "kernelspec": {
   "display_name": "R",
   "language": "R",
   "name": "ir"
  },
  "language_info": {
   "codemirror_mode": "r",
   "file_extension": ".r",
   "mimetype": "text/x-r-source",
   "name": "R",
   "pygments_lexer": "r",
   "version": "4.0.5"
  }
 },
 "nbformat": 4,
 "nbformat_minor": 5
}
