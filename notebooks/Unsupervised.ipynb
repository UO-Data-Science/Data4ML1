{
 "cells": [
  {
   "cell_type": "code",
   "execution_count": null,
   "id": "2c1e70dc-d60a-460e-af41-47bd83c6f888",
   "metadata": {},
   "outputs": [],
   "source": [
    ".libPaths('/gpfs/projects/datascience/shared/R/Data4ML')"
   ]
  },
  {
   "cell_type": "markdown",
   "id": "f8d8bd35-7a15-4265-94c1-93fbbd10789c",
   "metadata": {},
   "source": [
    "# Unsupervised ML\n",
    "\n",
    "Two broad categories dimetionality reduction and clustering we will explore some of these concepts with our normal penguins dataset."
   ]
  },
  {
   "cell_type": "code",
   "execution_count": null,
   "id": "9f889e30-6c7f-4266-9fcf-858d7042dca4",
   "metadata": {
    "tags": []
   },
   "outputs": [],
   "source": [
    "?penguins"
   ]
  },
  {
   "cell_type": "code",
   "execution_count": null,
   "id": "0c5a8e74-1832-49a3-9e0b-f222960ee236",
   "metadata": {},
   "outputs": [],
   "source": [
    "library('Rtsne')\n",
    "library('uwot')\n",
    "library(palmerpenguins)\n",
    "\n"
   ]
  },
  {
   "cell_type": "markdown",
   "id": "bd04fc03-bf28-42ba-aeb0-788c53cc0e1a",
   "metadata": {
    "tags": []
   },
   "source": [
    "# Dimensionality reduction\n",
    "\n",
    "**Why do you want to do it?**\n",
    "* Too many variables to easily analyze\n",
    "* Too many variables to easily plot\n",
    "\n",
    "**What are we doing** \n",
    "We want to take our data set with too many variables and create a new representation of that data that only uses a few variables. \n",
    "Unlike supervised learning there is no **true** answer for what counts as a good representation of our data. What are some of the things we might want to caputure\n",
    "* Keep information that is **important**\n",
    "* Maintain distances between data points, so points that are close together in high dimensions are also close together in low dimensions\n",
    "* Useful if our representations if variables are indepedent of each other\n",
    "\n",
    "There are a few common ways to do this are\n",
    "\n",
    "1. PCA - Creates well defined linear representations orded by importance, where importance is defined as how much of the datasets variance can be explained. \n",
    "    * This method gives you vectors in order of importance, but what if you want to put a much information into a specific number of dimentions 2 or 3 numbers \n",
    "2. TSNE - non-linear method that is very common \n",
    "3. UMAP - non-linear method that is a bit faster than TSNE\n",
    "\n",
    "\n",
    "\n",
    "\n"
   ]
  },
  {
   "cell_type": "markdown",
   "id": "99cbaa2d-b051-4826-a7bd-c638f02d4775",
   "metadata": {},
   "source": [
    "# Writing a Plot Function \n",
    "\n",
    "**Suggestion** If you have to do it more than twice automate it!\n",
    "\n",
    "You've used functions through-out the workshop. You can save yourself a lot of time by writing your own.\n",
    "\n",
    "Syntax:\n",
    "```R\n",
    "my_function<-function(argument1,argument2){ # open bracket starts the function\n",
    "# Your code to do something\n",
    "print(argument1) \n",
    "print(argument2)\n",
    "\n",
    "} #Close bracket finishes the function\n",
    "```\n"
   ]
  },
  {
   "cell_type": "code",
   "execution_count": null,
   "id": "70ba9550-0244-4429-9ba6-540913e6fcb8",
   "metadata": {},
   "outputs": [],
   "source": [
    "#This code creates your function\n",
    "my_function<-function(argument1,argument2){ # open bracket starts the function\n",
    "print(argument1) \n",
    "print(argument2)\n",
    "} "
   ]
  },
  {
   "cell_type": "code",
   "execution_count": null,
   "id": "911fad46-0a9b-44fc-bf52-aab8a9a9e591",
   "metadata": {},
   "outputs": [],
   "source": [
    "#This code runs your function\n",
    "\n",
    "my_function('Hello','World')\n",
    "\n",
    "my_function('hello','world')\n",
    "\n"
   ]
  },
  {
   "cell_type": "markdown",
   "id": "05794560-31d9-4bf9-a4c9-2bb621dfe5bb",
   "metadata": {},
   "source": [
    "# Exercise write a function to print the sum of two numbers"
   ]
  },
  {
   "cell_type": "code",
   "execution_count": null,
   "id": "53bb5c19-2d12-449c-bdd9-1fb04093f66d",
   "metadata": {},
   "outputs": [],
   "source": [
    "\"Your Code\"\n"
   ]
  },
  {
   "cell_type": "code",
   "execution_count": null,
   "id": "852f773f-d863-4a37-aca9-4e521c47baea",
   "metadata": {},
   "outputs": [],
   "source": [
    "# Make our plots fit better in Jupyter\n",
    "options(repr.plot.width=20,repr.plot.height=10)\n",
    "\n",
    "#Get Clean data\n",
    "penguins_clean<-na.omit(penguins)\n",
    "\n",
    "#Use only numeric features for tests\n",
    "train_data<-penguins_clean[,c('bill_length_mm','bill_depth_mm','flipper_length_mm','body_mass_g')]\n"
   ]
  },
  {
   "cell_type": "code",
   "execution_count": null,
   "id": "d84c9fd2-2262-4f05-99a4-3221781499d7",
   "metadata": {},
   "outputs": [],
   "source": [
    "\n",
    "\n",
    "plot_penguins <- function(x,y,z=NULL) {\n",
    "print(substitute(x))\n",
    "#Color points by species\n",
    "if(is.null(z)){\n",
    "    z= penguins_clean$species\n",
    "    legend= c(\"Adelie\", \"Chinstrap\", \"Gentoo\",\"M\",\"F\")\n",
    "    }\n",
    "else{\n",
    "    legend=c(1:max(as.numeric(z)),\"M\",\"F\")\n",
    "    print(legend)\n",
    "    }\n",
    "#Select shape by sex\n",
    "sh_label=penguins_clean$sex\n",
    "#Set color choices\n",
    "colors<-c(c(\"orange\", \"purple\", \"darkcyan\"),sample(colors()))\n",
    "shapes<-c(19,2)\n",
    "#Plot\n",
    "par(mar=c(5.1,4.1,4.1,20.1),xpd=TRUE)\n",
    "\n",
    "plot(x,y,col=colors[factor(z)],\n",
    "        xlab=deparse(substitute(x)),\n",
    "       ylab=deparse(substitute(y)), \n",
    "     pch=shapes[factor(sh_label)],cex=2,cex.axis=2,cex.lab=2)\n",
    "\n",
    "#add legend\n",
    "legend(\"topright\",inset=c(-0.2,0.0), legend = legend,      \n",
    "       pch = c(rep(shapes[2],length(legend)-2),shapes),\n",
    "               col = c(colors[1:(length(legend)-2)],c('black','black')),cex=0.8,text.width=1.5)\n",
    "    \n",
    "#p<-ggplot(data = penguins_clean,aes(x = x,y = y, color=species,shape=sex)) +\n",
    "#                      geom_point(aes(color=bill_depth_mm))    \n",
    "#print(p)   \n",
    "}\n",
    "\n",
    "\n",
    "\n",
    "#plot_penguins(penguins_clean$flipper_length_mm,penguins_clean$body_mass_g)\n",
    "plot_penguins(penguins_clean$flipper_length_mm,penguins_clean$body_mass_g)\n",
    "\n"
   ]
  },
  {
   "cell_type": "markdown",
   "id": "25da3370-5792-4d91-aad2-8db93f0427a8",
   "metadata": {
    "tags": []
   },
   "source": [
    "# Principal Component Analysis \n",
    "\n",
    "Run PCA and make a Scree Plot. A scree plot is just the amount of varience explained by each PC. Your looking for a Knee to decided how many vectors to keep.\n",
    "\n",
    "![example scree](https://miro.medium.com/max/1210/1*Nx8nLPdHmAtgWopOLa76Bg.png)\n",
    "\n"
   ]
  },
  {
   "cell_type": "code",
   "execution_count": null,
   "id": "3574d0e6-cc12-42f7-a77e-e695f0619a79",
   "metadata": {},
   "outputs": [],
   "source": [
    "pca_out=prcomp(train_data)\n",
    "\n",
    "penguins_clean$pca_1<-pca_out$x[,1]\n",
    "penguins_clean$pca_2<-pca_out$x[,2]\n",
    "\n",
    "#calculate total variance explained by each principal component\n",
    "var_explained = pca_out$sdev^2 / sum(pca_out$sdev^2)\n",
    "\n",
    "#create scree plot\n",
    "plot(var_explained,type='l')\n",
    "\n"
   ]
  },
  {
   "cell_type": "markdown",
   "id": "7ba33f80-a8fd-4cf8-8529-3e86a354bc66",
   "metadata": {},
   "source": [
    "# Question does this make sense?"
   ]
  },
  {
   "cell_type": "code",
   "execution_count": null,
   "id": "0c051a21-95d6-40b3-a5e9-a369ac4cd88a",
   "metadata": {},
   "outputs": [],
   "source": [
    "\n",
    "#This Calculates the Standard Deviation of each column\n",
    "apply(train_data,2,sd)"
   ]
  },
  {
   "cell_type": "code",
   "execution_count": null,
   "id": "a51e59bb-c6f4-4d4d-88b1-76ebdc1f5a58",
   "metadata": {},
   "outputs": [],
   "source": [
    "?scale\n"
   ]
  },
  {
   "cell_type": "code",
   "execution_count": null,
   "id": "40fdcda2-1ec9-42a1-b73c-69e46840d23b",
   "metadata": {},
   "outputs": [],
   "source": [
    "\n",
    "apply(scale(train_data),2,sd)"
   ]
  },
  {
   "cell_type": "code",
   "execution_count": null,
   "id": "f1ed29c8-9004-4611-b99c-49c6c3334054",
   "metadata": {
    "tags": []
   },
   "outputs": [],
   "source": [
    "#This way \n",
    "#pca_out=prcomp(scale(train_data))\n",
    "#OR This way\n",
    "pca_out=prcomp(train_data,scale=TRUE)\n",
    "\n",
    "pca_out\n",
    "penguins_clean$pca_1<-pca_out$x[,1]\n",
    "penguins_clean$pca_2<-pca_out$x[,2]\n",
    "\n",
    "#calculate total variance explained by each principal component\n",
    "var_explained = pca_out$sdev^2 / sum(pca_out$sdev^2)\n",
    "\n",
    "\n",
    "\n",
    "#create scree plot\n",
    "library(ggplot2)\n",
    "\n",
    "qplot(c(1:4), var_explained) + \n",
    "  geom_line() + \n",
    "  xlab(\"Principal Component\") + \n",
    "  ylab(\"Variance Explained\") +\n",
    "  ggtitle(\"Scree Plot\") +\n",
    "  ylim(0, 1)"
   ]
  },
  {
   "cell_type": "code",
   "execution_count": null,
   "id": "f86379ca-a02c-4d5f-b36e-194c090ffb5d",
   "metadata": {},
   "outputs": [],
   "source": [
    "plot_penguins(penguins_clean$pca_1,penguins_clean$pca_2)\n",
    "\n"
   ]
  },
  {
   "cell_type": "markdown",
   "id": "d57a0d01-1dca-4e79-8a43-9cff7a7f6631",
   "metadata": {},
   "source": [
    "# TSNE"
   ]
  },
  {
   "cell_type": "code",
   "execution_count": null,
   "id": "0e16c5a5-16da-49b3-97fe-7ad0ec07c4f1",
   "metadata": {},
   "outputs": [],
   "source": [
    "library('Rtsne')"
   ]
  },
  {
   "cell_type": "code",
   "execution_count": null,
   "id": "13b8b8d2-5841-44cd-851e-d04d5dcb7152",
   "metadata": {
    "tags": []
   },
   "outputs": [],
   "source": [
    "\n",
    "#tsne_out<-Rtsne(train_data,perplexity=5,max_iter=500,theta=0,normalize=TRUE)\n",
    "tsne_out<-Rtsne(scale(train_data),perplexity=15,normalize=TRUE)\n",
    "\n",
    "penguins_clean$tsne_1<-tsne_out$Y[,1]\n",
    "penguins_clean$tsne_2<-tsne_out$Y[,2]\n",
    "\n",
    "\n",
    "#colnames(penguins)\n",
    "plot_penguins(penguins_clean$tsne_1,penguins_clean$tsne_2)\n"
   ]
  },
  {
   "cell_type": "markdown",
   "id": "74b5f07f-dd9d-408e-a0da-42d713900826",
   "metadata": {},
   "source": [
    "# Try a few different values of perplexity and try un-scaled\n"
   ]
  },
  {
   "cell_type": "markdown",
   "id": "c82aeced-b5d7-4f4c-b92a-42c08025e544",
   "metadata": {},
   "source": [
    "# UMAP"
   ]
  },
  {
   "cell_type": "code",
   "execution_count": null,
   "id": "2448b1b7-e925-4e73-aec6-08a218e2d9db",
   "metadata": {},
   "outputs": [],
   "source": [
    "umap_out=umap(scale(train_data),n_neighbors=15)\n",
    "\n",
    "penguins_clean$umap_1<-umap_out[,1]\n",
    "penguins_clean$umap_2<-umap_out[,2]"
   ]
  },
  {
   "cell_type": "code",
   "execution_count": null,
   "id": "19d693e0-2d4e-476f-9635-8773a3bc7e4b",
   "metadata": {},
   "outputs": [],
   "source": [
    "plot_penguins(penguins_clean$umap_1,penguins_clean$umap_2)\n",
    "\n",
    "\n"
   ]
  },
  {
   "cell_type": "markdown",
   "id": "11a006e3-b659-4054-a9e2-3dc4408aac37",
   "metadata": {},
   "source": [
    "# Question kinds of question would this data be useful in answering?"
   ]
  },
  {
   "cell_type": "markdown",
   "id": "639e7701-5211-4c87-b48a-ffd4897fe4ff",
   "metadata": {},
   "source": [
    "# Clustering\n",
    "\n",
    "Kmeans clustering!\n",
    "\n",
    "\n"
   ]
  },
  {
   "cell_type": "code",
   "execution_count": null,
   "id": "4cdb03c6-b9e1-4bd8-8ea3-68b5d1f8b7c2",
   "metadata": {},
   "outputs": [],
   "source": [
    "k_means_out=kmeans(train_data,3)\n",
    "penguins_clean$km3=k_means_out$cluster\n",
    "\n"
   ]
  },
  {
   "cell_type": "code",
   "execution_count": null,
   "id": "e2f041a3-3bbc-4dda-ad2b-9edbc1e1b9ed",
   "metadata": {},
   "outputs": [],
   "source": [
    "plot_penguins(penguins_clean$body_mass_g,penguins_clean$flipper_length_mm,z=penguins_clean$km3)\n",
    "\n",
    "plot_penguins(penguins_clean$body_mass_g,penguins_clean$flipper_length_mm)\n",
    "\n",
    "\n"
   ]
  },
  {
   "cell_type": "markdown",
   "id": "a485be62-d5cc-4ce3-94b3-ed677bea6975",
   "metadata": {},
   "source": [
    "# We have the same problems with scale clustering is dominated by body mass"
   ]
  },
  {
   "cell_type": "code",
   "execution_count": null,
   "id": "1b26d28d-d62c-4dad-b125-f0ca24dec762",
   "metadata": {},
   "outputs": [],
   "source": [
    "k_means_out=kmeans(scale(train_data),3)\n",
    "penguins_clean$km3_scale=k_means_out$cluster\n",
    "plot_penguins(penguins_clean$body_mass_g,penguins_clean$flipper_length_mm,z=penguins_clean$km3_scale)\n",
    "plot_penguins(penguins_clean$body_mass_g,penguins_clean$flipper_length_mm,z=penguins_clean$species)\n",
    "\n"
   ]
  },
  {
   "cell_type": "code",
   "execution_count": null,
   "id": "da515843-d5cf-4910-adad-25b70f2332fd",
   "metadata": {},
   "outputs": [],
   "source": [
    "# How many clusters\n",
    "k_means_1=kmeans(scale(train_data),1)\n",
    "k_means_2=kmeans(scale(train_data),2)\n",
    "k_means_3=kmeans(scale(train_data),3)\n",
    "k_means_4=kmeans(scale(train_data),4)\n",
    "k_means_5=kmeans(scale(train_data),5)\n",
    "k_means_6=kmeans(scale(train_data),6)\n",
    "k_means_7=kmeans(scale(train_data),7)\n",
    "k_means_8=kmeans(scale(train_data),8)\n",
    "k_means_9=kmeans(scale(train_data),9)\n",
    "k_means_10=kmeans(scale(train_data),10)\n",
    "\n",
    "\n",
    "\n"
   ]
  },
  {
   "cell_type": "code",
   "execution_count": null,
   "id": "80b5131c-f4bb-49f4-9358-180724a2f457",
   "metadata": {},
   "outputs": [],
   "source": [
    "data=c(k_means_1$tot.withinss,\n",
    "k_means_2$tot.withinss,\n",
    "k_means_3$tot.withinss,\n",
    "k_means_4$tot.withinss,\n",
    "k_means_5$tot.withinss,\n",
    "k_means_6$tot.withinss,\n",
    "k_means_7$tot.withinss,\n",
    "k_means_8$tot.withinss,\n",
    "k_means_9$tot.withinss,\n",
    "k_means_10$tot.withinss       \n",
    "      )\n",
    "\n"
   ]
  },
  {
   "cell_type": "markdown",
   "id": "1e11055c-18aa-49fa-815e-fb9dd90d9696",
   "metadata": {},
   "source": [
    "# We can look at a similar 'scree' plot for Kmeans"
   ]
  },
  {
   "cell_type": "code",
   "execution_count": null,
   "id": "b1650328-80c7-444d-a3da-5000c8288b87",
   "metadata": {},
   "outputs": [],
   "source": [
    "plot(data)"
   ]
  },
  {
   "cell_type": "markdown",
   "id": "3102b145-9b39-4fdd-a30b-d3cfb3f9a6cd",
   "metadata": {},
   "source": [
    "# Writing a for loop to save time\n",
    "\n",
    "What if we wanted to do this 100 times or 1000 times. If you have to do it more than twice automate it!\n",
    "\n",
    "```R\n",
    "for (i in 1:50)\n",
    "{\n",
    "print(i) # Anything you want here\n",
    "}\n",
    "```\n",
    "\n",
    "The above **for loop** is short hand for \n",
    "```\n",
    "i=1\n",
    "print(i)\n",
    "i=2\n",
    "print(i)\n",
    "...\n",
    "i=50\n",
    "print(i)\n",
    "```"
   ]
  },
  {
   "cell_type": "code",
   "execution_count": null,
   "id": "4bf60ed8-e982-4e86-90dc-255616b45733",
   "metadata": {},
   "outputs": [],
   "source": [
    "for (i in 1:50)\n",
    "{\n",
    "print(i) \n",
    "}\n"
   ]
  },
  {
   "cell_type": "markdown",
   "id": "f264ca15-57ee-4040-9415-dc1e30d59f37",
   "metadata": {},
   "source": [
    "# Exercise Redo the above k-means plot using a for loop"
   ]
  },
  {
   "cell_type": "code",
   "execution_count": null,
   "id": "020b42d2-c837-48d8-a1a0-38362bfa0b2d",
   "metadata": {},
   "outputs": [],
   "source": [
    "\"Your Code\""
   ]
  },
  {
   "cell_type": "markdown",
   "id": "22f6855d-5376-481b-b282-8557761136fc",
   "metadata": {},
   "source": [
    "# There's a package for that! A more robust way to pick your cluster number is to look for the maximum gap statistic!"
   ]
  },
  {
   "cell_type": "code",
   "execution_count": null,
   "id": "01f6f1c6-66d4-41f3-830c-4f09b7e5d072",
   "metadata": {},
   "outputs": [],
   "source": [
    "install.packages('cluster')\n",
    "library('cluster')\n",
    "\n",
    "gap_stat <- clusGap(train_data, FUN = kmeans, nstart = 25,\n",
    "                    K.max = 10, B = 50)\n",
    "\n",
    "gap_stat_scale <- clusGap(scale(train_data), FUN = kmeans, nstart = 25,\n",
    "                    K.max = 10, B = 50)\n"
   ]
  },
  {
   "cell_type": "code",
   "execution_count": null,
   "id": "940791e1-a090-41d6-b11b-a4a5d97c2ae9",
   "metadata": {},
   "outputs": [],
   "source": [
    "\n",
    "plot(gap_stat)\n",
    "plot(gap_stat_scale)"
   ]
  },
  {
   "cell_type": "code",
   "execution_count": null,
   "id": "be25e682-b739-4308-8f22-9c2b11838fd6",
   "metadata": {},
   "outputs": [],
   "source": [
    "plot_penguins(penguins_clean$umap_1,penguins_clean$umap_2,z=k_means_5$cluster)\n",
    "plot_penguins(penguins_clean$umap_1,penguins_clean$umap_2,z=penguins_clean$species)\n",
    "\n",
    "\n",
    "plot_penguins(penguins_clean$pca_1,penguins_clean$pca_2,z=k_means_5$cluster)\n",
    "plot_penguins(penguins_clean$pca_1,penguins_clean$pca_2,z=penguins_clean$species)\n"
   ]
  },
  {
   "cell_type": "markdown",
   "id": "9d516937-2113-4497-a4c7-a2f1daf3771d",
   "metadata": {},
   "source": [
    "# Dimensionality and clustering"
   ]
  },
  {
   "cell_type": "code",
   "execution_count": null,
   "id": "cfc8e179-e3ab-4151-aaeb-79862cbb97eb",
   "metadata": {},
   "outputs": [],
   "source": [
    "#Dimensionality\n",
    "\n",
    "train_data_big<-train_data\n",
    "train_data_big$r1 <-rnorm(nrow(train_data))\n",
    "train_data_big$r2 <-rnorm(nrow(train_data))\n",
    "train_data_big$r3 <-rnorm(nrow(train_data))\n",
    "train_data_big$r4 <-rnorm(nrow(train_data))\n",
    "train_data_big$r5 <-rnorm(nrow(train_data))\n",
    "train_data_big$r6 <-rnorm(nrow(train_data))\n",
    "train_data_big$r7 <-rnorm(nrow(train_data))\n",
    "train_data_big$r8 <-rnorm(nrow(train_data))\n",
    "train_data_big$r9 <-rnorm(nrow(train_data))\n",
    "train_data_big$r10 <-rnorm(nrow(train_data))\n",
    "\n",
    "\n",
    "gap_stat_norm <- clusGap(scale(train_data_big), FUN = kmeans, nstart = 25,\n",
    "                    K.max = 10, B = 50)\n",
    "\n",
    "\n",
    "pca_out=prcomp(scale(train_data_big),scale=TRUE)\n",
    "gap_stat_pca <- clusGap(pca_out$x[,1:2], FUN = kmeans, nstart = 25,\n",
    "                    K.max = 10, B = 50)\n",
    "\n",
    "umap_out<-umap(scale(train_data_big),n_components = 2)\n",
    "gap_stat_umap <- clusGap(umap_out, FUN = kmeans, nstart = 25,\n",
    "                    K.max = 10, B = 500)\n",
    "\n",
    "\n"
   ]
  },
  {
   "cell_type": "code",
   "execution_count": null,
   "id": "39786b47-1b5d-48b0-bd23-c5631c8bec3c",
   "metadata": {},
   "outputs": [],
   "source": [
    "plot(gap_stat_norm)\n",
    "plot(gap_stat_pca)\n",
    "plot(gap_stat_umap)\n"
   ]
  },
  {
   "cell_type": "code",
   "execution_count": null,
   "id": "3710cfb2-cbfa-47dc-a1df-a3c821e331ca",
   "metadata": {
    "tags": []
   },
   "outputs": [],
   "source": [
    "\n",
    "for( i in 2:ncol(train_data_big)){ \n",
    "print(i)\n",
    "pca_out<-prcomp(train_data_big[,1:i],scale=TRUE)\n",
    "#calculate total variance explained by each principal component\n",
    "var_explained = pca_out$sdev^2 / sum(pca_out$sdev^2)\n",
    "#create scree plot\n",
    "plot(var_explained,type='l')\n",
    "    }"
   ]
  },
  {
   "cell_type": "code",
   "execution_count": null,
   "id": "4fd2b888-077d-486d-b04e-3137c6b5cb79",
   "metadata": {},
   "outputs": [],
   "source": [
    "pca_cl<-kmeans(pca_out$x[,1:2],2)\n",
    "plot_penguins(pca_out$x[,1],pca_out$x[,2],z=pca_cl$cluster)\n",
    "\n",
    "umap_cl<-kmeans(umap_out,2)\n",
    "plot_penguins(umap_out[,1],umap_out[,2],z=umap_cl$cluster)\n"
   ]
  },
  {
   "cell_type": "markdown",
   "id": "34fa3877-b190-4865-8dce-897045bcd639",
   "metadata": {},
   "source": [
    "umap_out<-umap(scale(train_data_big),n_components = 2,n_neighbors = 4)\n",
    "gap_stat_umap <- clusGap(umap_out, FUN = kmeans, nstart = 25,\n",
    "                    K.max = 10, B = 500)\n",
    "plot(gap_stat_umap)\n",
    "umap_cl<-kmeans(umap_out,6)\n",
    "plot_penguins(umap_out[,1],umap_out[,2],z=umap_cl$cluster)"
   ]
  },
  {
   "cell_type": "markdown",
   "id": "1a1f6c4f-85b4-4263-8d43-9a1ea1b16406",
   "metadata": {},
   "source": [
    "# Conclusions\n",
    "\n",
    "* Lots of options when doing unsupervised learning. No **true** answer, but some are more useful than others\n",
    "* **Suggestion** - make sure your conclusions aren't very sensitive to your parameters\n",
    "* No free lunch lots of irrelevant features makes life more difficult and can potentially wash out signal\n"
   ]
  },
  {
   "cell_type": "markdown",
   "id": "9bf06307-2bfd-4466-9c13-42c35f9abee3",
   "metadata": {},
   "source": [
    "# Bonus - Causal Correlation Analysis\n",
    "\n",
    "* Makes a graph of whether variables are correlated or not\n",
    "* Makes **Conditional** Independence checks to check for causality and to simplify the graph\n",
    "* **Warning** Conditional Independence tests can be a little tricky with lots of assumptions. Check your data types\n",
    "* **Warning** MRPC has a mechanism for dealing with global false discovery, but many other packages do not"
   ]
  },
  {
   "cell_type": "code",
   "execution_count": null,
   "id": "2621bc43-001b-461f-a46f-92761df641d5",
   "metadata": {},
   "outputs": [],
   "source": [
    "library('MRPC')\n",
    "# Calculate Pearson correlation\n",
    "suffStat_C <- list(C = cor(scale(train_data_big)) ,n=nrow(train_data_big))\n",
    "# Infer the graph by MRPC\n",
    "addis <- MRPC(data = train_data_big,\n",
    "    suffStat = suffStat_C,\n",
    "    GV=0,\n",
    "    FDR = 0.05,\n",
    "    indepTest = 'gaussCItest',\n",
    "    labels = colnames(train_data_big),\n",
    "    FDRcontrol = 'LOND',\n",
    "    verbose = FALSE)"
   ]
  },
  {
   "cell_type": "code",
   "execution_count": null,
   "id": "17505095-9d17-43c9-95c7-bac7e711c03d",
   "metadata": {},
   "outputs": [],
   "source": [
    "par(cex=0.2)\n",
    "options(repr.plot.width=20,repr.plot.height=10,repr.plot.cex=1.5)\n",
    "\n",
    "plot(addis,\n",
    "main = 'Inferred graph')\n"
   ]
  },
  {
   "cell_type": "markdown",
   "id": "431567ce-9350-4d0a-8320-006d0e754426",
   "metadata": {},
   "source": [
    "# How do I read this?\n",
    "\n",
    "* r1-r10 are uncorrelated, a sign they might not be relevant and maybe could be dropped\n",
    "* There is a V structure with \"Bill Length\" and \"Bill Depth\"\n",
    "    * Meaning: \"Bill Length\",\"Bill Depth\" are un-correlated, however \"Bill Length| Flipper Length\" and \"Bill Depth| Flipper Length\" are correlated\n",
    "    * An example: z=x+y and x+y are normal random variables,  x is independent of y but  x=z-y so  y is not independent of x|z\n",
    "* Flipper Length 'blocks','Body Mass'\n",
    "    * Meaning: Body mass is correlated with everything linked above, but Flipper Length is good enough by itself to predict Body Mass and adding anything else provides no additional information\n",
    "\n",
    "* This method can get expensive with more variables or fewer assumptions but is a powerful way of summarizing relationships in a dataset. Arrows map directly to causality tests, but these tests also make some assumptions about confounders. \n"
   ]
  }
 ],
 "metadata": {
  "kernelspec": {
   "display_name": "R",
   "language": "R",
   "name": "ir"
  },
  "language_info": {
   "codemirror_mode": "r",
   "file_extension": ".r",
   "mimetype": "text/x-r-source",
   "name": "R",
   "pygments_lexer": "r",
   "version": "4.0.5"
  }
 },
 "nbformat": 4,
 "nbformat_minor": 5
}
